{
 "cells": [
  {
   "cell_type": "code",
   "execution_count": 1,
   "metadata": {},
   "outputs": [],
   "source": [
    "from pandas import *\n",
    "from nltk.corpus import stopwords\n",
    "from nltk.stem import PorterStemmer\n",
    "from nltk.tokenize import word_tokenize, sent_tokenize\n",
    "from nltk.corpus import stopwords\n",
    "from nltk.cluster.util import cosine_distance\n",
    "import numpy as np\n",
    "import networkx as nx\n",
    "from IPython.display import HTML, display\n",
    "from IPython.display import Image"
   ]
  },
  {
   "cell_type": "code",
   "execution_count": 2,
   "metadata": {},
   "outputs": [],
   "source": [
    "from datetime import datetime\n",
    "start = datetime.now()"
   ]
  },
  {
   "cell_type": "markdown",
   "metadata": {},
   "source": [
    "## MODEL 1 - Word Frequency Algorithm and Sentence scoring using Term Frequency Algorithm "
   ]
  },
  {
   "cell_type": "code",
   "execution_count": 3,
   "metadata": {},
   "outputs": [],
   "source": [
    "tp = read_csv('articles1.csv', iterator=True, chunksize=20)\n",
    "df = concat(tp, ignore_index=True)\n",
    "articles = df['content'].reset_index(drop=True)\n"
   ]
  },
  {
   "cell_type": "code",
   "execution_count": 4,
   "metadata": {},
   "outputs": [],
   "source": [
    "def create_freq_table(article):\n",
    "    stopWords = set(stopwords.words(\"english\"))\n",
    "    words = word_tokenize(article)\n",
    "    ps = PorterStemmer()\n",
    "    wordfreqTable = dict()\n",
    "    for word in words:\n",
    "        word = ps.stem(word)\n",
    "        if word in stopWords:\n",
    "            continue\n",
    "        if word in wordfreqTable:\n",
    "            wordfreqTable[word] += 1\n",
    "        else:\n",
    "            wordfreqTable[word] = 1\n",
    "\n",
    "    return wordfreqTable"
   ]
  },
  {
   "cell_type": "code",
   "execution_count": 5,
   "metadata": {},
   "outputs": [],
   "source": [
    "def score_sentences_tf(sentences, wordfreqTable):\n",
    "    sentenceScore = dict()\n",
    "\n",
    "    for sentence in sentences:\n",
    "        word_count_in_sentence = (len(word_tokenize(sentence)))\n",
    "        for wordFreq in wordfreqTable:\n",
    "            if wordFreq in sentence.lower():\n",
    "                if sentence[:15] in sentenceScore:\n",
    "                    sentenceScore[sentence[:15]] += wordfreqTable[wordFreq]\n",
    "                else:\n",
    "                    sentenceScore[sentence[:15]] = wordfreqTable[wordFreq]\n",
    "\n",
    "        sentenceScore[sentence[:15]] = sentenceScore[sentence[:15]] / word_count_in_sentence\n",
    "    return sentenceScore   "
   ]
  },
  {
   "cell_type": "code",
   "execution_count": 6,
   "metadata": {},
   "outputs": [],
   "source": [
    "def average_score_of_art(sentenceScore):\n",
    "    sumScores = 0\n",
    "    for entry in sentenceScore:\n",
    "        sumScores += sentenceScore[entry]\n",
    "    average = int(sumScores / len(sentenceScore))\n",
    "\n",
    "    return average"
   ]
  },
  {
   "cell_type": "code",
   "execution_count": 7,
   "metadata": {},
   "outputs": [],
   "source": [
    "def generate_summary(sentences, sentenceScore, threshold):\n",
    "    sentence_count = 0\n",
    "    summary = ''\n",
    "\n",
    "    for sentence in sentences:\n",
    "        if sentence[:15] in sentenceScore and sentenceScore[sentence[:15]] > (threshold):\n",
    "            summary += \"\" + sentence\n",
    "            sentence_count += 1\n",
    "\n",
    "    return summary"
   ]
  },
  {
   "cell_type": "code",
   "execution_count": 8,
   "metadata": {
    "scrolled": true
   },
   "outputs": [
    {
     "name": "stdout",
     "output_type": "stream",
     "text": [
      "Summarized Article from Model I : 0 WASHINGTON  —   Congressional Republicans have a new fear when it comes to their    health care lawsuit against the Obama administration: They might win.In another twist, Donald J. Trump’s administration, worried about preserving executive branch prerogatives, could choose to fight its Republican allies in the House on some central questions in the dispute.“Upon taking office, the Trump administration will evaluate this case and all related aspects of the Affordable Care Act.House Republicans contend that Congress never appropriated the money for the subsidies, as required by the Constitution.\n",
      " \n",
      "Summarized Article from Model I : 1 By September, four of every five shootings in the precinct this year were unsolved.And across the Bronx, investigative resources are squeezed.So though people see a lot, they rarely testify.This is the paradox of policing in the 40th Precinct.“Here, we have nothing,” she said.When it comes to “  families,” she said, the authorities “don’t really care as much.That’s how I feel.Frustrations build on all sides.Detectives’ phones rarely ring with tips, and officers grow embittered with witnesses who will not cooperate.In the chasm between the police and the community, gangs and gun violence flourish.Both are unsolved.He chose the police.A second report filed the same day said a    warned him, “I’m going to shoot through your window.” Mr. Fernandez told the police both the teenagers’ names, which appear in the reports, and then went home.Around 6:30 each morning, Sgt.“And people just don’t understand that.Of 18, 276 stops that year, 15, 521 were of people who had done nothing criminal.At roll calls, they were pressured to generate numbers: write tickets and make arrests.“Not because they wanted to, but because they had to.” Morale wilted in the aged station house on Alexander Avenue, in Mott Haven.Some officers fled to other commands.“It was like a heaviness.Last year, the precinct drew the   number of civilian complaints for officer misconduct in the city, and the most lawsuits stemming from police actions.The precinct is trying to improve morale under a new commanding officer, Deputy Inspector Brian Hennessy.“That perception really sticks,” he said.Last year, the 40th was the    for violent crime, with 65 cases per detective.“Any crime in Manhattan has to be solved,” said Howard Landesberg, who was a 40th Precinct detective in the late 1980s.“The outer boroughs are, like, forgotten.It’s just business as usual.” The Bronx’s struggles extend into prosecutions.” Against that tide of mistrust, Sergeant LoPuzzo’s detectives work 36 hours straight on some fresh cases.In a stuffy   squad room, the detectives of the 40th Precinct grapple with an inheritance of government neglect.But she always refused to testify.By October, Mr. Fernandez was increasingly afraid  —   and fed up.The menacing worsened.Mr. Fernandez’s daughter was harassed as she arrived home from school.On Oct. 20, 2015, he sent an online note to the police commissioner’s office.“We went to all proper channels for help,” the note said.“Both precincts failed us, except 2 officers who helped us, but their hands are tied.No one else to turn to.” “40th and PSA 7 won’t do anything,” he wrote, referring to the local substation.He even hired a drug customer to sweep the hallway, Mr. Fernandez said.But two weeks later, the dealing and the harassment resumed.He also bought two bulletproof vests, for about $700 each.“I’m bending over backward, and nobody’s not even doing anything,” he said.“No one should live like Mr. Fernandez lived, with people dealing drugs outside of his apartment,” he said.Mr. Fernandez’s complaints did not spur any arrests, but two men from the hallway were caught separately this year in shootings.That was too late for Mr. Fernandez.By May, he had moved his family away.\n",
      " \n",
      "Summarized Article from Model I : 2 Mr. Wong died on Friday at 106.But of the dozens of films on which he worked, it was for “Bambi” that Mr. Wong was  —   belatedly  —   most renowned.As a young child, he already exhibited a love of drawing and was encouraged by his father.Gen Yeo would never see his mother again.The sponsoring relative was interrogated separately, and the answers had to match.To stand a chance of passing, aspirants memorized rigorous dossiers known as coaching papers.Gen Yeo would undergo it alone.” Because Mr. Wong’s father had previously lived in the United States as Look Get, he was able to clear Immigration quickly.“Every day is just miserable  —   miserable.I hated that place.His father had already been questioned.Soon afterward, father and son were separated once more, when the elder Mr. Wong moved to Los Angeles to seek work.For reasons that have been lost to time, he could not take his son.Not long afterward his father died, leaving young Mr. Wong entirely on his own.One   flung a racial epithet at him.In trying to animate the book, Disney had reached an impasse.Mr. Wong spied his chance.“He said, ‘I love this indefinite quality, the mysterious quality of the forest.’” Mr. Wong was unofficially promoted to the rank of inspirational sketch artist.“But he was more than that,” Mr. Canemaker explained.But in 1941, in the wake of a bitter employees’ strike that year, Disney fired Mr. Wong.On “Bambi,” Mr. Wong’s name appears, quite far down in the credits, as a mere “background” artist.Mr. Wong joined Warner Brothers in 1942, working there  —   and lent out on occasion to other studios  —   until his retirement in 1968.“Then in a month you’d go back there and the sign was still there,” Mr. Wong recalled in “Tyrus.The war permanently dispersed the fledgling Oriental Artists’ Group.Mr. Wong’s friend Mr. Okubo was sent, with tens of thousands of other   to an internment camp.After her death in 1995, he slowly began making art again.In 2001, in formal recognition of his influence on “Bambi,” Mr. Wong was named a Disney Legend.Mr. Wong’s death, at his home in Sunland, was confirmed by the filmmaker Ms. Tom.His survivors include three daughters, Kay Fong,   Wong and Kim Wong and two grandchildren.When his daughters were small, Mr. Wong encouraged them to make art, as his father had encouraged him.\n",
      " \n",
      "Summarized Article from Model I : 3 Death may be the great equalizer, but it isn’t necessarily evenhanded.Start with David Bowie, whose stage persona  —   androgynous glam rocker, dance pop star, electronic experimentalist  —   was as   as his music.Death came to him at 57, and by all indications no one, including Prince Rogers Nelson, had seen it coming.Leon Russell, the piano pounder with a Delta blues wail and a mountain man’s mass of hair, died.So did Merle Haggard, rugged country poet of the common man and the   outlaw.If the music stars could fill arenas, so could idols of another stripe: the mighty athletes who left the scene.Matters of war, race and religion coursed through his life in a publicly turbulent way.Some people hated him when he refused to be drafted during the Vietnam War, a decision that cost him his heavyweight title.Until illness closed in, little could contain him, certainly not mere ropes around a ring.Palmer, too, was transformational, golf’s first media star.An entire generation of   postwar guys took up the game because of Arnie, and not a few women did, too.He was athletically blessed, magnetically cool, telegenically handsome  —   but he was somehow one of them, too.Clyde Lovelette, an Olympic, college and N. B.Even older, in the baseball ranks, was Monte Irvin.Nancy Reagan’s death evoked the 1980s White House, where   glamour and   West Coast conservatism took up residence on the banks of the Potomac.to the international tug of war over a Cuban boy named Elián González, to the bitter Senate battle over impeachment.The name of Boutros   the Egyptian diplomat who led the United Nations, led to replayed nightmares of genocide in Rwanda and Bosnia.Zsa Zsa Gabor’s celebrity, by contrast, outshone a modest acting career.Gene Wilder and Garry Shandling died in the same year, both having perfected a brand of hilariously neurotic comedy fit for a   culture.On Broadway, lights were dimmed in memory of Brian Bedford, Tammy Grimes and Anne Jackson, all brilliant in their day.—   had split from the scene.Silicon Valley saw a giant depart in Andrew S. Grove, who led the semiconductor revolution at Intel.The television industry lost a   executive, Grant Tinker, who in the ’80s made NBC the network to watch in prime time.Astrophysics, and the smaller world of women in science, said farewell to a pioneer and a champion in Vera Rubin.Which brings us to Marion Pritchard.\n",
      " \n",
      "Summarized Article from Model I : 4 SEOUL, South Korea  —   North Korea’s leader, Kim   said on Sunday that his country was making final preparations to conduct its first test of an intercontinental ballistic missile  —   a bold statement less than a month before the inauguration of   Donald J. Trump.“We have reached the final stage in preparations to   an intercontinental ballistic rocket,” he said.Analysts in the region have said Mr. Kim might conduct another weapons test in coming months, taking advantage of leadership changes in the United States and South Korea.Mr. Kim’s speech on Sunday indicated that North Korea may   a   rocket several times this year to complete its ICBM program, said Cheong   a senior research fellow at the Sejong Institute in South Korea.The first of such tests could come even before Mr. Trump’s inauguration, Mr. Cheong said.“We need to take note of the fact that this is the first New Year’s speech where Kim   mentioned an intercontinental ballistic missile,” he said.In his speech, Mr. Kim did not comment on Mr. Trump’s election.It has said it could now make nuclear warheads small enough to fit onto a ballistic missile.In April, North Korea reported the successful ground test of an engine for an intercontinental ballistic missile.” On Sept. 9, the North conducted its fifth, and most powerful, nuclear test.Mr. Kim later attended another ground test of a new   rocket engine, exhorting his government to prepare for another rocket launch as soon as possible.In November, the United Nations Security Council imposed new  sanctions against the North.\n",
      " \n",
      "Summarized Article from Model I : 5 LONDON  —   Queen Elizabeth II, who has been battling a cold for more than a week, missed a New Year’s Day church service at her country estate in Sandringham, Buckingham Palace said on Sunday.A week earlier, the queen, who is 90, missed a Christmas Day church service, for the first time since 1988, because of the illness.“The Queen does not yet feel ready to attend church as she is still recuperating from a heavy cold,” the palace said in a statement.The queen’s husband, Prince Philip, who had also been ill, was well enough to attend both services, in the church at Sandringham, which is in Norfolk, on the east coast of England.The queen, who ascended to the throne in 1952, became the world’s   monarch following the death of King Bhumibol Adulyadej of Thailand in October.She is also Britain’s   monarch, having last year surpassed Queen Victoria’s   reign.Her mother lived until the age of 101.\n",
      " \n",
      "Summarized Article from Model I : 6 BEIJING  —   President Tsai   of Taiwan sharply criticized China’s leaders on Saturday, saying they had resorted to military and economic threats in order to intimidate the island.In recent weeks, China has stepped up military activities near Taiwan, sending its sole aircraft carrier through the waters near the island and dispatching military planes in the region.Despite Beijing’s recent actions, which she said had “hurt the feelings” of the Taiwanese people and destabilized relations, Ms. Tsai vowed to avoid a confrontation.“We will not bow to pressure, and we will of course not revert to the old path of confrontation,” she said.Ms. Tsai faces the delicate task of registering discontent with Beijing while also sending a message that Taiwan will exercise restraint.He has antagonized Beijing with a series of critical comments.“She remains calm, rational and patient,” Ms. Glaser wrote in an email.Still, Ms. Tsai, whose Democratic Progressive Party has traditionally favored independence for Taiwan, could face serious challenges in the coming months.” Ms. Tsai’s vision, however, “may not align well with the incoming Trump administration’s apparent belief that it can pressure China on all fronts more than the Obama administration has,” he said.The Chinese Ministry of Foreign Affairs on Thursday called on the United States to block Ms. Tsai from entering the country, warning that such a visit would embolden independence activists in Taiwan.Ms. Tsai described the visit as “unofficial,” saying, “A transit stop is just a transit stop.”\n",
      " \n",
      "Summarized Article from Model I : 7 “I’ve got my life back,” he declared.“I mean, I feel like a million bucks.Some are even heavier now.The results, the researchers said, were stunning.“I am just blown away.They became even slower, and the pounds kept piling on.Mr. Cahill was one of the worst off.Anything more turns to fat.He questioned, though, whether the measurements six years later were accurate.First, though, they are trying to understand them in greater detail.But, he added, the findings made sense.“This is a subset of the most successful” dieters, he said.With weight loss, leptin levels fall and people become hungry.“All my friends were drinking beer and not gaining massive amounts of weight,” Mr. Cahill said.“The moment I started drinking beer, there goes another 20 pounds.I said, ‘This is not right.Something is wrong with my body.’” Sean Algaier, 36, a pastor from Charlotte, N. C. feels cheated.“It’s kind of like hearing you have a life sentence,” he said.Slower metabolisms were not the only reason the contestants regained weight, though.They constantly battled hunger, cravings and binges.Its level rose.“What was surprising was what a coordinated effect it is,” Dr. Proietto said.” Mr. Cahill, 46, said his weight problem began when he was in the third grade.He got fat, then fatter.Walking hurt stairs were agony.“I remember sitting in a dressing room one day, and nothing would fit.And rigorous it was.Rest for an hour.Soon the scale hit 265.But his weight edged up again, to 275, then 295.His slow metabolism is part of the problem, and so are his food cravings.He opens a bag of chips, thinking he will have just a few.“I’d eat five bites.Still, pounds can insidiously creep on.Those taking the drug gradually lost weight.“Unless they continue to fight it constantly, they will regain the weight,” he said.All this does not mean that modest weight loss is hopeless, experts say.” Dr. Rosenbaum agreed.Mr. Cahill knows that now.“That shame that was on my shoulders went off,” he said.\n",
      " \n",
      "Summarized Article from Model I : 8 That was enough to get Ms. Kerr bouncing.” They exchanged email addresses, more an act of politeness than promise.” In addition, Mr. Leahy is the music supervisor for “Survivor’s Remorse” on Starz.Ms. Kerr, Mr. Leahy and his friend met for a long, boozy brunch.“There was banter,” Ms. Kerr said, but neither knew the interest or intention of the other.For example, Ms. Kerr was visiting New York and texted Mr. Leahy a request for “walking around SoHo music.” He sent her a link to “Love Me Again,” by John Newman.” After listening to it, Ms. Kerr said, “I called my friend Katie.“I sort of thought, ‘Maybe it’s too much.’” But he shared it with her anyway.Ms. Kerr played the game, too.On the mix, Ms. Kerr included the Mazzy Star song “I’ve Been Let Down.” It was “a bit of an Easter egg of my actual feelings,” she said.” In early 2014, Mr. Leahy invited her to a Bleachers concert.” Ms. Kerr and Mr. Leahy shared their first kiss that night.Four musicians played “Once, With Feeling,” an instrumental song Mr. Leahy wrote for Ms. Kerr..“The look we went for is sickeningly stunning and perfect,” he said.“Hillary loves music, and it’s not just a casual thing,” Ms. Ray said.The structure was wrapped in white peonies, Sahara roses and camellia greens.Marshall Goldsmith, an executive coach, author and lifelong family friend of Ms. Kerr, officiated.\n",
      " \n",
      "Summarized Article from Model I : 9 She was 14.He was 29.He built boilers.He could no longer work.Their first child, José Jr. had a heart defect.A second son, Jesus, became epileptic at 3.A girl, Maria, completed the family.“I’m willing to take anything with him,” she said.“I never left him alone, and I never will.” Radiation did not work.Food was often scarce.Zoraida is severely depressed.she was asked.José Jr. agreed.“We’re all there for each other,” Ms. Muñiz said.\n",
      " \n"
     ]
    }
   ],
   "source": [
    "for i in range(0,10):\n",
    "    freqs = create_freq_table(articles[i])\n",
    "    sents = sent_tokenize(articles[i])\n",
    "    sentence_scores = score_sentences_tf(sents,freqs)\n",
    "    threshold = average_score_of_art(sentence_scores)\n",
    "    summary = generate_summary(sents, sentence_scores, 1.2 * threshold)\n",
    "    print(\"Summarized Article from Model I :\",i, summary)\n",
    "    print(\" \")"
   ]
  },
  {
   "cell_type": "code",
   "execution_count": 9,
   "metadata": {},
   "outputs": [
    {
     "name": "stdout",
     "output_type": "stream",
     "text": [
      "Total Time Taken using model I:  0:00:21.394226\n"
     ]
    }
   ],
   "source": [
    "end = datetime.now()\n",
    "time_taken = end - start\n",
    "print('Total Time Taken using model I: ',time_taken) "
   ]
  },
  {
   "cell_type": "markdown",
   "metadata": {},
   "source": [
    "## MODEL 2 - Cosine Similarity Algorithm and Sentence score using TextRank Algorithm"
   ]
  },
  {
   "cell_type": "code",
   "execution_count": 10,
   "metadata": {},
   "outputs": [],
   "source": [
    "from datetime import datetime\n",
    "start = datetime.now()"
   ]
  },
  {
   "cell_type": "code",
   "execution_count": 11,
   "metadata": {},
   "outputs": [],
   "source": [
    "def sents_similarity(s1, s2, stopwords=None):\n",
    "    if stopwords is None:\n",
    "        stopwords = []\n",
    " \n",
    "    s1 = [w.lower() for w in s1]\n",
    "    s2 = [w.lower() for w in s2]\n",
    " \n",
    "    all_words = list(set(s1 + s2))\n",
    " \n",
    "    vector1 = [0] * len(all_words)\n",
    "    vector2 = [0] * len(all_words)\n",
    " \n",
    "    # build the vector for the first sentence\n",
    "    for w in s1:\n",
    "        if w in stopwords:\n",
    "            continue\n",
    "        vector1[all_words.index(w)] += 1\n",
    " \n",
    "    # build the vector for the second sentence\n",
    "    for w in s2:\n",
    "        if w in stopwords:\n",
    "            continue\n",
    "        vector2[all_words.index(w)] += 1\n",
    "    \n",
    "    return 1 - cosine_distance(vector1, vector2)"
   ]
  },
  {
   "cell_type": "code",
   "execution_count": 12,
   "metadata": {},
   "outputs": [],
   "source": [
    "def similarity_matrix(sents, stop_words):\n",
    "    # Create an empty similarity matrix\n",
    "    matrix = np.zeros((len(sents), len(sents)))\n",
    " \n",
    "    for index1 in range(len(sents)):\n",
    "        for index2 in range(len(sents)):\n",
    "            if index1 == index2: #ignore if both are same sentences\n",
    "                continue \n",
    "            matrix[index1][index2] = sents_similarity(sents[index1], sents[index2], stop_words)\n",
    "\n",
    "    return matrix\n"
   ]
  },
  {
   "cell_type": "code",
   "execution_count": 13,
   "metadata": {},
   "outputs": [],
   "source": [
    "def generate_model2_summary(sents, top_s=5):\n",
    "    stop_words = stopwords.words('english')\n",
    "    summarize_text = []\n",
    "    sent_similarity_matrix = similarity_matrix(sents, stop_words)\n",
    "\n",
    "    # Rank sentences in similarity martix\n",
    "    sent_similarity_graph = nx.from_numpy_array(sent_similarity_matrix)\n",
    "    scores = nx.pagerank(sent_similarity_graph)\n",
    "\n",
    "    # Sort the rank and pick top sentences\n",
    "    ranked_sent = sorted(((scores[i],s) for i,s in enumerate(sents)), reverse=True)       \n",
    "\n",
    "    for i in range(top_s):\n",
    "        summarize_text.append(\"\".join(ranked_sent[i][1]))\n",
    "\n",
    "    #  Finally, output the summarize text\n",
    "    print(\"Summarize Text: \\n\", \". \".join(summarize_text))\n",
    "\n",
    "     "
   ]
  },
  {
   "cell_type": "code",
   "execution_count": 14,
   "metadata": {},
   "outputs": [
    {
     "name": "stdout",
     "output_type": "stream",
     "text": [
      "Summarize Text: \n",
      " Just as important to House Republicans, Judge Collyer found that Congress had the standing to sue the White House on this issue  —   a ruling that many legal experts said was flawed  —   and they want that precedent to be set to restore congressional leverage over the executive branch.. To stave off that outcome, Republicans could find themselves in the awkward position of appropriating huge sums to temporarily prop up the Obama health care law, angering conservative voters who have been demanding an end to the law for years.. ” The suspension of the case, House lawyers said, will “provide the   and his future administration time to consider whether to continue prosecuting or to otherwise resolve this appeal.. ” In a potentially   decision in 2015, Judge Rosemary M. Collyer ruled that House Republicans had the standing to sue the executive branch over a spending dispute and that the Obama administration had been distributing the health insurance subsidies, in violation of the Constitution, without approval from Congress.\n",
      "Summarize Text: \n",
      " ” The Times has been documenting the murders logged this year in the 40th Precinct, one of a handful of neighborhoods where deadly violence remains a problem in an era of   crime in New York City.. Out of the city’s 77 precincts, the 40th has the highest murder rate but the fewest detectives per violent crime, reflecting disparities in staffing that hit hardest in some neighborhoods outside Manhattan, according to a New York Times analysis of Police Department data.. “It’s the culture of the Police Department that they worry about Manhattan,” said Joseph L. Giacalone, a former sergeant in the Bronx Cold Case Squad, in part “because that’s where the money is.. ” Sergeant LoPuzzo, who turned down a more prestigious post to stay in the 40th Precinct, said that his squad worked tirelessly to handle cases with the people he had, and that while every squad wanted more detectives, staffing needs for counterterrorism units and task forces had created new deployment challenges across the department.\n",
      "Summarize Text: \n",
      " With friends, including the   artist Benji Okubo, he founded the Oriental Artists’ Group of Los Angeles, which organized exhibitions of members’ work  —   an   level of exposure for Asian artists at the time.. Artistic recognition, when Mr. Wong did find it, was all the more noteworthy for the fact that among Chinese immigrant men of his generation, professional prospects were largely limited to menial jobs like houseboy and laundryman.. ” After the Japanese attack on Pearl Harbor in December 1941, Mr. Wong, like many   took to wearing a lapel button proclaiming his heritage, lest an angry American beat him up on the street.. In 2003, a retrospective of his work, curated in part by Ms. See, was the inaugural exhibition at the Chinese American Museum in Los Angeles.\n",
      "Summarize Text: \n",
      " And this time Abe Vigoda, of the “Godfather” movies and “Barney Miller,” actually did die, after having not actually done so years ago when wildly uninformed people spread the word that he had.. And that of Elie Wiesel, in New York, after his tireless struggle to compel the world never to forget, made us confront once again the gas chambers of Auschwitz.. But we know for certain that some were, and we can reasonably surmise that a good many more were, too, all of them still in possession of her selfless gift and her matchless legacy, their very lives.. He made the Hall of Fame anyway as a New York Giant and became Major League Baseball’s first black executive, but when he died, fans pondered again the question that has hung over many an athletic career shackled by discrimination: What if?\n",
      "Summarize Text: \n",
      " At the time, Mr. Kim said the North “can tip   intercontinental ballistic rockets with more powerful nuclear warheads and keep any cesspool of evils in the Earth, including the U. S. mainland, within our striking range.. If North Korea conducts a    test in coming months, it will test Mr. Trump’s new administration despite years of increasingly harsh sanctions, North Korea has been advancing toward Mr. Kim’s professed goal of arming his isolated country with the ability to deliver a nuclear warhead to the United States.. But analysts in the region said the North’s launchings of   rockets to put satellites into orbit in recent years showed that the country had cleared some key technological hurdles.. He said North Korea would continue to bolster its weapons programs as long as the United States remained hostile and continued its joint military exercises with South Korea.\n",
      "Summarize Text: \n",
      " LONDON  —   Queen Elizabeth II, who has been battling a cold for more than a week, missed a New Year’s Day church service at her country estate in Sandringham, Buckingham Palace said on Sunday.. The queen, who ascended to the throne in 1952, became the world’s   monarch following the death of King Bhumibol Adulyadej of Thailand in October.. “The Queen does not yet feel ready to attend church as she is still recuperating from a heavy cold,” the palace said in a statement.. The queen’s husband, Prince Philip, who had also been ill, was well enough to attend both services, in the church at Sandringham, which is in Norfolk, on the east coast of England.\n",
      "Summarize Text: \n",
      " ” Ms. Tsai’s vision, however, “may not align well with the incoming Trump administration’s apparent belief that it can pressure China on all fronts more than the Obama administration has,” he said.. “She remains calm, rational and patient,” Ms. Glaser wrote in an email.. “We will not bow to pressure, and we will of course not revert to the old path of confrontation,” she said.. Despite Beijing’s recent actions, which she said had “hurt the feelings” of the Taiwanese people and destabilized relations, Ms. Tsai vowed to avoid a confrontation.\n",
      "Summarize Text: \n",
      " If he had not burned enough calories to hit his goal, he went back to the gym after dinner to work out some more.. ” “It is not clear whether this small imbalance and the resultant weight gain that most of us experience as we age are the consequences of changes in lifestyle, the environment or just the biology of aging,” Dr. Rosenbaum added.. It was as if their bodies were intensifying their effort to pull the contestants back to their original weight.. Dr. Michael Rosenbaum, an obesity researcher at Columbia University who has collaborated with Dr. Hall in previous studies, said the body’s systems for regulating how many calories are consumed and how many are burned are tightly coupled when people are not strenuously trying to lose weight or to maintain a significant weight loss.\n",
      "Summarize Text: \n",
      " On Dec. 10, 125 friends and relatives gathered in Palm Springs, Calif. at the Colony Palms Hotel, which was opened in 1936 by the reputed mobster Al Wertheimer and whose poolside guests have included Frank Sinatra, Ronald Reagan, Kirk Douglas and Zsa Zsa Gabor.. That is when Mr. Leahy and Ms. Kerr moved into the ambiguous “mixtape era,” in which for months they emailed and texted each other with coy “are we just friends or what” texts revolving around music.. Ms. Kerr grew up in the La Jolla section of San Diego, graduated from the University of Southern California in 2000 and eventually made her way to New York, where she took a job as an assistant at Elle magazine.. In answering the usual     questions, Mr. Leahy told her he was a music supervisor for “Girls,” the HBO show created by and starring Lena Dunham.\n",
      "Summarize Text: \n",
      " But Jesus had school bills to pay, and the family paid some of the funeral expenses for José Sr. ’s mother, who died over the summer, and things began to unravel.. As José and Zoraida Muñiz and their children have struggled to deal with a   series of trials and setbacks, including cancer, debilitating epilepsy, deep depression and near eviction, it has sometimes seemed as if angels and love were the only forces holding things together.. Jesus is returning to college, where he is on a   track and wants to be a paramedic.. ” All the angels are gifts from friends and relatives, or picked up off the street, just like all the furniture in the Muñizes’ overstuffed apartment in a   complex on Westchester Avenue in the Bronx, much of it restored by Ms. Muñiz.\n"
     ]
    }
   ],
   "source": [
    "for i in range(0,10):\n",
    "    sents = sent_tokenize(articles[i])\n",
    "    generate_model2_summary(sents, 4)"
   ]
  },
  {
   "cell_type": "code",
   "execution_count": 15,
   "metadata": {},
   "outputs": [
    {
     "name": "stdout",
     "output_type": "stream",
     "text": [
      "Total Time Taken using model II:  0:01:28.770860\n"
     ]
    }
   ],
   "source": [
    "end = datetime.now()\n",
    "time_taken = end - start\n",
    "print('Total Time Taken using model II: ',time_taken) "
   ]
  },
  {
   "cell_type": "markdown",
   "metadata": {},
   "source": [
    "<h1><center>Extractive Summarization of News articles</center></h1>"
   ]
  },
  {
   "attachments": {
    "image.png": {
     "image/png": "[encoded data removed]"
    }
   },
   "cell_type": "markdown",
   "metadata": {},
   "source": [
    "### Introduction:\n",
    "\n",
    ">Automatic text summarization is one of the most intersting topics in NLP which has an impact in our everyday lives. The motivation of this project is to summarize all the important information from an article to help us decide if the whole article is worth reading. Now instead of just skimming a huge article we can read the automated summary with the most important features included. Text summarization in general is categorised into Abstractvie summarization and Extractive summarization. We have choosen to implement two extractive summarization algorithms which are based on the techniques of sentence extraction. We attempt to identify the set of sentences that are most important for the understanding of a given article. There are many techniques available for Extractive summarization, so to keep it simple we are using unsupervised learning approachs. In this project we are creating article summaries using two different unsupervised algorithms.The intention of using two different algorithm is to evaluate the model's summary and identify which algorithm provides a better summary compared to the other and in what ways.\n",
    "1. Word Frequency algorithm - Sentence score based on Term frequency algorithm. \n",
    "2. Cosine similarity algorithm - Sentence score based on TextRank algorithm.\n",
    "\n",
    "\n",
    "### DATA: \n",
    "\n",
    ">Articles1.csv is the dataset we have picked from Kaggle \"All the News\" for summarizing articles in the content field of the dataset. This Dataset has a total of 53291 articles from which we have tested our code for 100 to 2000 articles. However the final model generates summaries for up to 10 articles. The articles in the dataset are of varying lengths which made the process of summarizing every article a bit tough. Since both our models are based on extracting sentences based on the scores, the uneven sized article made it difficult to keep constant threshold. For evaluation purposes we have split the data into even sized articles (of a descent length...not too short) and generated summaries for them using both our models. Evaluation is explained in the end of the report. \n",
    "\n",
    "## Model 1- WordFrequency Algorithm - Sentence Score using Term Frequency : \n",
    ">A mathematical approach to extract sentences based on their scores. Below are the steps we take:\n",
    "\n",
    "1. Read the dataset csv file for content row which has all the articles. \n",
    "\n",
    "2. Create a frequency table for the list of words in the article- ignoring stop words.\n",
    "\n",
    "3. Sentence tokenize each article and store as a list of sentences \n",
    "\n",
    "4. Scoring the sentences based on Term Frequency Method. In brief, scoring a sentence by its words, adding together the frequency of every non-stop word in a sentence.\n",
    "\n",
    "5. Find the threshold, which will be used later to determine which sentences will be included in our summary. In this stage we define an article's average sentence score as it's threshold. \n",
    "\n",
    "6. Generate summary by selecting the top ranked sentences from our sentence score dictionary. If the sentence scores are greater than the threshold or average score (adjusted with a multiplier), then return the sentences and stack them up together as a single summary.\n",
    "\n",
    "## How it works?\n",
    ">We have created 4 functions to extract a summary for N number of articles in our dataset (Articles.csv). Below are detailed explanations of how each function in our model works. We use an example article taken from the dataset(article 5). This shows step by step how the final summary is being generated. \n",
    "\n",
    "###### Original Article: \n",
    "__LONDON _ Queen Elizabeth II, who has been battling a cold for more than a week, missed a New Years Day church service at her country estate in Sandringham, Buckingham Palace said on Sunday. A week earlier, the queen, who is 90, missed a Christmas Day church service, for the first time since 1988, because of the illness.\"The Queen does not yet feel ready to attend church as she is still recuperating from a heavy cold” the palace said in a statement. The queen's husband, Prince Philip, who had also been ill, was well enough to attend both services, in the church at Sandringham, which is in Norfolk, on the east coast of England. The queen, who ascended to the throne in 1952, became the worlda's   monarch following the death of King Bhumibol Adulyadej of Thailand in October. She is also Britaina's   monarch, having last year surpassed Queen Victoria's  reign. Her mother lived until the age of 101.__\n",
    "\n",
    "###### __create_freq_table:__ \n",
    ">This function creates a frequency table dictionary that holds the frequency of all the words in an article. The words are normalized using word_tokenize, and porter stemmer algorithm to count the frequency of stem words. Stop words are not included in the frequency table. wordfreqTable dictonary looks like below,\n",
    "\n",
    "{'london': 1, '—': 1, 'queen': 6, 'elizabeth': 1, 'II': 1, ',': 18, 'ha': 1, 'battl': 1, 'cold': 2, 'week': 2, 'miss': 2, 'new': 1, 'year': 2, '’': 5, 'day': 2, 'church': 4, 'servic': 3, 'countri': 1, 'estat': 1, 'sandringham': 2, 'buckingham': 1, 'palac': 2, 'said': 2, 'sunday': 1, '.': 7, 'A': 1, 'earlier': 1, '90': 1, 'christma': 1, 'first': 1, 'time': 1, 'sinc': 1, '1988': 1, 'becaus': 1, 'ill': 2, '“': 1, 'doe': 1, 'yet': 1, 'feel': 1, 'readi': 1, 'attend': 2, 'still': 1, 'recuper': 1, 'heavi': 1, '”': 1, 'statement': 1, 'husband': 1, 'princ': 1, 'philip': 1, 'also': 2, 'wa': 1, 'well': 1, 'enough': 1, 'norfolk': 1, 'east': 1, 'coast': 1, 'england': 1, 'ascend': 1, 'throne': 1, '1952': 1, 'becam': 1, 'world': 1, 'monarch': 2, 'follow': 1, 'death': 1, 'king': 1, 'bhumibol': 1, 'adulyadej': 1, 'thailand': 1, 'octob': 1, 'britain': 1, 'last': 1, 'surpass': 1, 'victoria': 1, 'reign': 1, 'mother': 1, 'live': 1, 'age': 1, '101': 1}\n",
    "\n",
    "##### __score_sentences_tf:__ \n",
    "\n",
    ">Scoring the sentences based on term frequency. In our model we are scoring a sentence by its words, adding the frequency of every non-stop words in a sentence. For each sentence in an article word count of the sentence is stored in a variable. For each word in the wordfreqTable dictionary, if the word is present in the sentence add the freq count of word into sentenceScore dictionary.A potential issue with our scoring algorithm is that the longer sentences will have advantage over shorter sentences. To resolve this, we are dividing every sentence score by the number of words in the sentence, to make scoring fair. We have used sentence [:15] which is the first 15 characters of any sentence, this is to save memory overhead while making dictionary easier to read. Below is the dictionary result with each sentence showing up to 15 characters as it's key.\n",
    "\n",
    "{'LONDON — Que': 1.725, 'A week earlier,': 1.8, '“The Queen does': 1.8275862068965518, 'The queen’s hus': 1.5121951219512195, 'The queen, who ': 1.7586206896551724, 'She is also Bri': 2.6666666666666665, 'Her mother live': 1.2222222222222223}\n",
    "\n",
    "##### __average_score_of_art:__\n",
    ">This function is passed in our sentence score dictionary and returns the average sentence score of an article. We are considering average score as our threshold for generating summary. The average score of the sentence is derived as int(sumScores / len(sentenceValue)). Here the sumScores is sum of all sentence scores from sentenceValue dictionary and the denominator is the number of sentences in the article. Average score calculation for articles 5 from the dataset is as below. \n",
    "\n",
    "1.725 + 1.8 + 1.8275862068965518 + 1.5121951219512195 + 1.7586206896551724 + 2.6666666666666665 +1.2222222222222223 / 7 \n",
    "\n",
    "Average score = int(1.7874701296274047) = 1 \n",
    " \n",
    "##### __generate_summary:__\n",
    "\n",
    ">Finally, the function that generates the summary based on all the math we have done in our previous functions. Basic idea is to select sentences from the article to be included in our summary, if the sentence score is greater than the average score. Generate summary function takes three inputs (sentences, sentenceScore and threshold). The first argument sentences holds a sentence tokenized article. The next argument sentenceScore is our dictionary of sentence scores, created using the score_sentences_tf fuction. For the \"Threshold\" we have used 1.2x*average score in our model, however 1.2 is not a constant value that is suitable for all the articles due to their varying lengths. In this example with a threshold of 1.2*average score the whole article is itself a summary due to the length of the article. For explanatory purpose different threshold results are shown as below, \n",
    "\n",
    "1.5*average_score          = 1 *1.5        = 1.5\n",
    "\n",
    "<u>sentences with sentence score greater than 1.5 are:</u>\n",
    "\n",
    "{'LONDON — Que': 1.725, 'A week earlier,': 1.8, '“The Queen does': 1.8275862068965518, 'The queen’s hus': 1.5121951219512195, 'The queen, who ': 1.7586206896551724, 'She is also Bri': 2.6666666666666665}\n",
    "\n",
    "1.6* average_score         = 1 *1.6        = 1.6\n",
    "\n",
    "<u>sentences with sentence score greater than 1.6 are:</u>\n",
    "\n",
    "{'LONDON — Que': 1.725, 'A week earlier,': 1.8, '“The Queen does': 1.8275862068965518, 'The queen, who ': 1.7586206896551724, 'She is also Bri': 2.6666666666666665}\n",
    "\n",
    "1.8* average_score         = 1 *1.8         = 1.8\n",
    "\n",
    "<u>sentences with sentence score greater than 1.8 are:</u>\n",
    "\n",
    "{'“The Queen does': 1.8275862068965518, 'She is also Bri': 2.6666666666666665}\n",
    "\n",
    "<u>__Output summary for the above calculations:__</u>\n",
    "\n",
    "<b>Summarize Text for average score of 1.5:</b> \n",
    "\n",
    "  LONDON  —   Queen Elizabeth II, who has been battling a cold for more than a week, missed a New Year’s Day church service at her country estate in Sandringham, Buckingham Palace said on Sunday. A week earlier, the queen, who is 90, missed a Christmas Day church service, for the first time since 1988, because of the illness. “The Queen does not yet feel ready to attend church as she is still recuperating from a heavy cold,” the palace said in a statement. The queen’s husband, Prince Philip, who had also been ill, was well enough to attend both services, in the church at Sandringham, which is in Norfolk, on the east coast of England. The queen, who ascended to the throne in 1952, became the world’s   monarch following the death of King Bhumibol Adulyadej of Thailand in October. She is also Britain’s   monarch, having last year surpassed Queen Victoria’s   reign.\n",
    "\n",
    "<b>Summarize Text for average score of 1.6:</b>\n",
    "\n",
    "LONDON  —   Queen Elizabeth II, who has been battling a cold for more than a week, missed a New Year’s Day church service at her country estate in Sandringham, Buckingham Palace said on Sunday. A week earlier, the queen, who is 90, missed a Christmas Day church service, for the first time since 1988, because of the illness. “The Queen does not yet feel ready to attend church as she is still recuperating from a heavy cold,” the palace said in a statement. The queen, who ascended to the throne in 1952, became the world’s   monarch following the death of King Bhumibol Adulyadej of Thailand in October. She is also Britain’s   monarch, having last year surpassed Queen Victoria’s   reign.\n",
    "\n",
    "<b>Summarize Text for average score of 1.8:</b> \n",
    "\n",
    "  “The Queen does not yet feel ready to attend church as she is still recuperating from a heavy cold,” the palace said in a statement. She is also Britain’s   monarch, having last year surpassed Queen Victoria’s   reign.\n",
    "\n",
    "## __What did not workout in this model:__\n",
    "\n",
    ">The threshold argument is used to control if the sentence is included in the summary. If the sentence's score is above the threshold argument (which is multiplied by a variable 1.2 or any value of our choice) it is included in the summary. The higher the value you multiply the threshold by the smaller your summary will be since threshold is higher. Feel like a multiplier of 1.3 - 1.7 returns a good length summary, depending on the length of original article. If article is short like article[5] it is hard to return a summary that doesn’t include all or most of the 6 sentence article (summary generated with threshold *1.5 returned the whole article). Also some summaries read better when they are shorter, while others make more sense given a few extra sentences. We don’t want it to be too short but also don’t want it to be too long. Feel like 3-6 sentences is a good length range on average. But again due to the varying sized articles we found it hard to find a universal threshold that was ideal for all cases. Because of that and other issues dealing with evaluation, we decided to only run our evaluation on evenly lengthed articles that were of a descent size (not too short like article[5])\n",
    "\n",
    "<b>Examples:</b>\n",
    "\n",
    "article[1] 1.5*threshold = By September, four of every five shootings in the precinct this year were unsolved. And across the Bronx, investigative resources are squeezed. So though people see a lot, they rarely testify. “Here, we have nothing,” she said. That’s how I feel. Both are unsolved. He chose the police. Around 6:30 each morning, Sgt. “Not because they wanted to, but because they had to. “It was like a heaviness. Last year, the precinct drew the number of civilian complaints for officer misconduct in the city, and the most lawsuits stemming from police actions. “That perception really sticks,” he said. Last year, the 40th was the for violent crime, with 65 cases per detective. “The outer boroughs are, like, forgotten. By October, Mr. Fernandez was increasingly afraid — and fed up. The menacing worsened. “We went to all proper channels for help,” the note said. He even hired a drug customer to sweep the hallway, Mr.Fernandez said. But two weeks later, the dealing and the harassment resumed. By May, he had moved his family away.\n",
    "\n",
    "article[1] - 1.9*threshold = And across the Bronx, investigative resources are squeezed. “Here, we have nothing,” she said. Both are unsolved. Around 6:30 each morning, Sgt. “That perception really sticks,” he said. “The outer boroughs are, like, forgotten. The menacing worsened. By May, he had moved his family away.\n",
    "\n",
    "## __MODEL 2 - Cosine Similarity Algorithm - Sentence Score using TextRank:__ \n",
    ">Cosine similarity is a measure of similarity between two non-zero vectors of an inner product space that measures the cosine of the angle between them. Representing our sentences as a bunch of vectors, we can find the similarity among sentences, by measuring the cosine of the angle between the vectors. Angle will be 0 if sentences are similar.\n",
    "\n",
    "![image.png](attachment:image.png)\n",
    "\n",
    "1. Input Dataset and Sentence tokenize using nltk sent_tokenize.\n",
    "\n",
    "2. Remove stop words. \n",
    "\n",
    "3. Find the sentence similairty using cosine simialrity algorithm by representing sentences as bunch of vectors and build a similarity matrix\n",
    "\n",
    "4. Convert similarity matrix into a graph, with sentences as vertices and similarity scores as edges for sentence rank calcualtion using inbuilt function PageRank. \n",
    "\n",
    "5. Pick top N sentences for summary and summarize text. \n",
    "\n",
    "## __How it works?__ \n",
    "\n",
    ">We are taking the same example article used for explaining model 1 to show how different the summaries are for different algorithms. \n",
    "\n",
    "###### __Original Article:__ \n",
    ">LONDON _ Queen Elizabeth II, who has been battling a cold for more than a week, missed a New Years Day church service at her country estate in Sandringham, Buckingham Palace said on Sunday. A week earlier, the queen, who is 90, missed a Christmas Day church service, for the first time since 1988, because of the illness.\"The Queen does not yet feel ready to attend church as she is still recuperating from a heavy cold” the palace said in a statement. The queen's husband, Prince Philip, who had also been ill, was well enough to attend both services, in the church at Sandringham, which is in Norfolk, on the east coast of England. The queen, who ascended to the throne in 1952, became the worlda's   monarch following the death of King Bhumibol Adulyadej of Thailand in October. She is also Britaina's   monarch, having last year surpassed Queen Victoria's  reign. Her mother lived until the age of 101.\n",
    "\n",
    "<b>__sents_similarity:__</b>\n",
    "\n",
    ">Function to find the similarity between two sentences at a time, creating a similarity matrix. For explanatory purpose we take first 2 sentences of the articles summary.  \n",
    "\n",
    "S1 = “LONDON  —   Queen Elizabeth II, who has been battling a cold for more than a week, missed a New Year’s Day church service at her country estate in Sandringham, Buckingham Palace said on Sunday.”\n",
    "\n",
    "S2 = \"The queen, who ascended to the throne in 1952, became the world’s   monarch following the death of King Bhumibol Adulyadej of Thailand in October.\"\n",
    "\n",
    ">We want to know how similar the sentences are in an article purely in terms of word counts (and ignoring word orders). We begin by making a list of lowercased unique words from s1 and s2 and count the number of times each of these words appears in each sentence. \n",
    "\n",
    "<b>all_words</b> ['ii', 'more', 'service', 'has', 'her', 'adulyadej', 'for', 'to', '’', 'church', 'thailand', 'queen', 'death', 'week', 'country', 'a', 'on', 'following', 'cold', 'king', 'bhumibol', 's', '1952', 'october', 'london', 'than', 'year', 'estate', 'elizabeth', 'missed', 'world', 'in', 'of', 'throne', 'at', '.', 'the', 'said', ',', 'new', 'became', 'buckingham', 'sandringham', 'who', 'been', 'palace', 'ascended', 'battling', 'monarch', 'sunday', 'day']\n",
    "\n",
    "\n",
    ">We are not interested in the words themselves though. We are interested only in two vertical vectors of counts. For instance, there are two instances of ‘queen’ in each text. We are going to decide how close these two texts are to each other by calculating one function of those two vectors, namely the cosine of the angle between them.\n",
    "\n",
    "__The vector counts looks like this for each sentence:__\n",
    "\n",
    "<b>vector1</b>\n",
    " [1, 0, 1, 0, 0, 0, 0, 0, 1, 1, 0, 1, 0, 1, 1, 0, 0, 0, 1, 0, 0, 0, 0, 0, 2, 0, 1, 1, 1, 1, 0, 0, 0, 0, 0, 1, 0, 1, 3, 1, 0, 1, 1, 0, 0, 1, 0, 1, 0, 1, 1]\n",
    " \n",
    "<b>vector2</b>\n",
    " [0, 0, 0, 0, 0, 1, 0, 0, 1, 0, 1, 1, 1, 0, 0, 0, 0, 1, 0, 1, 1, 0, 1, 1, 0, 0, 0, 0, 0, 0, 1, 0, 0, 1, 0, 1, 0, 0, 2, 0, 1, 0, 0, 0, 0, 0, 1, 0, 1, 0, 0]\n",
    " \n",
    ">The inbuilt function _cosine_distance_ from nltk.cluster.util is utilised to derive the cosine similarity between two sentence. It returns 1 minus the cosine of the angle between vectors v and u. This is equal to 1 - (u.v / |u||v|). The cosine similarity of the two sentences is about 0.3451342449813166. \n",
    "\n",
    "<b>__similarity_matrix:__</b> \n",
    "\n",
    ">Finds the similarity between the sentences and stores the cosine similarity scores in a matrix. This function takes in a sentence tokenized article stored as a list of strings, along with a list of stopwords. Lets first define a zero matrix of dimensions (n * n). Here, n is the number of sentences. We will initialize this matrix with cosine similarity scores of the sentences by calling the function sents_similarity between a pair of sentences and returning their similarity scores. Scores are calculated based on the cosine similarity algorithm as explained in the previous function. A similarity matrix is created for the sentences in articles[5] from dataset as shown below. If two sentences are same in the article, we ignore, when scoring and leave as 0. \n",
    "\n",
    "\n",
    "\n",
    "[[0.         0.92779537 0.960855   0.96838165 0.95208281 0.94479297\n",
    "  0.86640588]\n",
    " [0.92779537 0.         0.93892901 0.92438319 0.88850726 0.9174406\n",
    "  0.8791457 ]\n",
    " [0.960855   0.93892901 0.         0.94246758 0.93877417 0.90397923\n",
    "  0.90485679]\n",
    " [0.96838165 0.92438319 0.94246758 0.         0.96437858 0.92056046\n",
    "  0.88076258]\n",
    " [0.95208281 0.88850726 0.93877417 0.96437858 0.         0.85200719\n",
    "  0.92019397]\n",
    " [0.94479297 0.9174406  0.90397923 0.92056046 0.85200719 0.\n",
    "  0.79665194]\n",
    " [0.86640588 0.8791457  0.90485679 0.88076258 0.92019397 0.79665194\n",
    "  0.]]\n",
    "  \n",
    "\n",
    "<b>__generate_model2_summary__:</b> \n",
    "\n",
    ">This function puts everything together. It is passed in a sentence tokenized article, and returns a generated summary, by calling the above two functions.The matrix returned from similarity_matrix function is converted into a graph.The node of this graph will represent the sentences and the edges will represent the similarity scores between the sentences. PageRank algorithm is applied on this graph for ranking the sentences. Finally, the sorted top n ranked sentences output as our summary. In our code we are resulting top 4 sentences as a summary (n being a 2nd parameter passed in controling the length of the summary). \n",
    "\n",
    "\n",
    "\n",
    ">Page rank Algorithm takes the sent_similarity graph results as an input and find the scores. In our code we have used the inbuilt PageRank function from networkx package. When we call the inbuilt function on the similarity graph, it will return the scores of all the sentences with the most important sentence having the highest scores. Since we are not experimenting on how the calculation works to score the sentences based on the similarity matrix in our code, here is a basic understanding on PageRank algorithm. \n",
    "\n",
    ">PageRank algorithm is primarily used for ranking web pages in online search results to compute a score based on the probability of a user visiting the page. To capture probability of users navigating from one page to another a square matrix m is created with n rows and n columns, where n is the number of web pages. Each node in the matrix denotes the probability of users transitioning from one web page to another. Finally, the values in the matrix will be updated in an iterative fashion to arrive at a web page ranking. \n",
    "\n",
    ">Note we are using TextRank algorithm to score our sentences. Pagerank is explained above to understand the concept. The difference between PageRank and TextRank is that instead of webpages we use sentences. Similarity between two sentences is used as an equivalent to web page probability and the sqaure matrix is stored with similarity scores like the Matrix M used for pagerank.  \n",
    "\n",
    "\n",
    "<u><b>Sentence scores using PageRank function looks like below.</b></u>\n",
    "\n",
    "{0: 0.1459450580298527, 1: 0.14268848582308816, 2: 0.1452590816008353, 3: 0.1455070745112012, 4: 0.1435837363327568, 5: 0.139493179182673, 6: 0.13752338451959262}\n",
    "\n",
    ">These are the resulting sentence scores of our example article. The model 2 summary would include the top 4 sentences (if 4 was used as 2nd param in the generate_model2_summary function call):\n",
    "\n",
    "<u><b>Ranked Sentences.<b></u>\n",
    "    \n",
    "[(0.1459450580298527, 'LONDON  —   Queen Elizabeth II, who has been battling a cold for more than a week, missed a New Year’s Day church service at her country estate in Sandringham, Buckingham Palace said on Sunday.'), (0.1455070745112012, 'The queen’s husband, Prince Philip, who had also been ill, was well enough to attend both services, in the church at Sandringham, which is in Norfolk, on the east coast of England.'), (0.1452590816008353, '“The Queen does not yet feel ready to attend church as she is still recuperating from a heavy cold,” the palace said in a statement.'), (0.1435837363327568, 'The queen, who ascended to the throne in 1952, became the world’s   monarch following the death of King Bhumibol Adulyadej of Thailand in October.'), (0.14268848582308816, 'A week earlier, the queen, who is 90, missed a Christmas Day church service, for the first time since 1988, because of the illness.'), (0.139493179182673, 'She is also Britain’s   monarch, having last year surpassed Queen Victoria’s   reign.'), (0.13752338451959262, 'Her mother lived until the age of 101.')]"
   ]
  },
  {
   "cell_type": "markdown",
   "metadata": {},
   "source": [
    "## Evaluation of Summaries"
   ]
  },
  {
   "cell_type": "markdown",
   "metadata": {},
   "source": [
    ">Below is a chart with the results of our human evaluation. To evaluate our models we first had to hand-write summaries for each of four evenly lengthed articles. We saved these even sufficiently lengthed articles into a list named large_arts. We evaluted on large_arts[0] large_arts[1], large_arts[2], and large_arts[3]. The setup of the evaluation included the article headline followed by three summaries (one generated by our first model, one generated by our second model and the third being our hand written summary). The handwritten summary was mostly extractive (using sentences from the original article) with a few minor exceptions and alterations to try to keep the evaluation somewhat fair (since both of our models are extractive). We asked human judges based on the headline to choose the summary that makes the most sense, and seems like it would have most likely been written by hand as oppose to generated by a computer. We ran evaluation set up in this manner on 8 individuals; Below are the results. M1 means they choose our first model (using word frequencies) as being the best of the three summary options, while M2 means they choose the second model (which uses cosine distance and textrank) as the best. HW means that they choose the hand written summary as being the \"best\" of the three options.\n",
    "\n",
    "\n",
    "|article index  |Subj 1  |Subj 2  |Subj 3  |Subj 4  |Subj 5  |Subj 6  |Subj 7  |Subj 8  |\n",
    "|---------------|--------|--------|--------|--------|--------|--------|--------|--------|\n",
    "|large_arts[0]  |M2      |HW      |HW      |M1      |HW      |HW      |HW      |HW      |\n",
    "|large_arts[1]  |HW      |HW      |HW      |HW      |M2      |HW      |M1      |M2      |       \n",
    "|large_arts[2]  |HW      |HW      |HW      |HW      |HW      |HW      |HW      |HW      |       \n",
    "|large_arts[3]  |HW      |HW      |HW      |M2      |HW      |HW      |HW      |HW      |\n",
    "\n",
    "> As you can see neither model faired well against our handwritten summaries. Seems like neither of these extractive models were that convincing. \n",
    "******************************************************************************************************************\n",
    "***A few notable observations***:\n",
    "1. For large_arts[2] none of our judges could be fooled into thinking either of our models was a human.\n",
    "2. Three of our subjects guessed the hand written summary for each of the four articles.\n",
    "3. Overall model 2 seemed to fool people more than model 1 but it is hard to tell since most guesses were for hand written summary.\n",
    "\n",
    "> Because of the high prevalance of human judges choosing hand written summaries for most of their guesses, we decided to further evaluate using the same setup with the same article's headlines followed by the same three summaries: M1, M2 and HW. We asked our new set of judges to not only guess which headline's summary they thought was the best (most likely hand written and easiest to read and follow) we also asked them to choose which was the worst (hardest to understand and follow, and most likely not hand written), basically ranking them from best to worst. This way even if they choose HW as the being the best as most judges did, we can still easily compare our two models to one another directly. The chart below shows out of Model 1 (M1) and Model 2 (M2), which summary was choosen over the other as being better (easier to follow and understand and more likely hand written summary).\n",
    "\n",
    "|article index  |Subj 1  |Subj 2  |Subj 3  |Subj 4  |\n",
    "|---------------|--------|--------|--------|--------|\n",
    "|large_arts[0]  |  M1    |  M1    |  M2    |  M2    |\n",
    "|large_arts[1]  |  M1    |  M1    |  M2    |  M2    |        \n",
    "|large_arts[2]  |  M1    |  M1    |  M2    |  M2    |        \n",
    "|large_arts[3]  |  M2    |  M2    |  M2    |  M2    |   \n",
    "\n",
    ">Noteable Observations:\n",
    "1. For large_arts[3] all of our subjects thought that model 2 produced a better summary.\n",
    "2. Data on the other three articles was mostly split.\n",
    "3. 2 of the 4 judges choose model 2 for all 4 articles.\n",
    "4. 2 of the 4 subjects choose model 1 for 3 of the 3 articles (again, no one choose model 1 for large_arts[3]).\n",
    "\n",
    ">__Observations:__\n",
    "> Neither model seems to outperform the other by a significant amount. Seems to depend on the article and the judge. Overall neither model performed that well, compared to a human. Most of the issues seems to be due to the extractive nature of the algorithms. For instance large_arts[0] model 1 summary begins like this; __By midmorning, Mr. Trump had weighed in, questioning the members’ priorities on Twitter. Minutes later, members emerged to say the changes had been scrapped.__ What _changes_ are they refering to and what _members_ of what? This isn't clear to the reader. Even though these sentences scored high, stacked together without syntax they don't make sense.The handwritten summaries we used for evaluation purposes can be found in the attached csv file (which also contains summaries for 100 articles from our original uneven article list generated by both models). The computer generated summaries used for our evaluation will output in the below code. We used a threshold multiplier of 1.3, and model 2 summary was 4 sentences long."
   ]
  },
  {
   "cell_type": "markdown",
   "metadata": {},
   "source": [
    "## Code for Evaluating the summaries "
   ]
  },
  {
   "cell_type": "code",
   "execution_count": 16,
   "metadata": {},
   "outputs": [],
   "source": [
    "large_arts = [x for x in articles if len(x) >8000 and len(x) <8010 ]"
   ]
  },
  {
   "cell_type": "code",
   "execution_count": 17,
   "metadata": {},
   "outputs": [
    {
     "name": "stdout",
     "output_type": "stream",
     "text": [
      "Summarized Article from Model I : 0 By midmorning, Mr. Trump had weighed in, questioning the members’ priorities on Twitter.Minutes later, members emerged to say the changes had been scrapped.Instead, they wanted to allow lawmakers on the more powerful House Ethics Committee to shut down inquiries.Some Republicans joined in, saying the measure sent the wrong message to the public.At first, on Tuesday morning, Mr. Ryan and Mr. McCarthy played down the changes.Some of the lawmakers also accepted improper gifts during the trips, including rugs and crystal.\n",
      " \n",
      "Summarized Article from Model I : 1 Just a few years ago, South Sudan accomplished what seemed impossible: independence.Of all the quixotic rebel armies fighting for freedom in Africa, the South Sudanese actually won.Many South Sudanese might not go for it.Still, Mr. Padiet conceded, the country desperately needs help.For decades, South Sudanese rebels had battled the     central government of Sudan.The South Sudanese had absorbed bombings and massacres.On independence day, South Sudan’s capital, Juba, partied until dawn.Most important, there was unity.The fault line was the most predictable one, the Dinka versus the Nuer.Women were raped.Still, it goes on.She stared at the wall, not making a murmur.“It all seems fantastical, doomed and extremely unlikely.” “Genocide is beginning to look inevitable,” she said.\n",
      " \n",
      "Summarized Article from Model I : 2 “But I feel so much guilt,” she said.“My life is moving forward.” She means her mother and younger sister, Ghena.Her older sister, Wafa, fled to Germany.I’ve already lost one daughter.“They just cry.Her travel was canceled, she called to tell her parents.’” said Ms. Mohamed’s husband, Abdalla Ramadhan Munye.“My dad said, ‘Go.Her plans changed immediately.She graduated last year.Her mother, Lamia Zreik, has not been as lucky.One year passed, then two.“I was very devastated.I was actually very angry.Then came the executive order.“She was very sad,” she said.No one is taking us.“I’m thinking about this every day,” she said.” For now, there’s no place they can be together.“I can’t express my deep anger,” Ms. Zreik said.”\n",
      " \n",
      "Summarized Article from Model I : 3 Some are government contractors.Despite the companies’ sizable employment, the spotlight is not on them.In a few   cases, workers have noisily quit.” The organizers say nearly 1, 000 verified employees have signed.“In this case, it’s notable not to have taken a stand.” Oracle declined to comment.” Dell and Cisco declined to comment.Please.4, which resisted   policies in the South in the 1950s.” That was on a Monday.After the letter became public, Mr. Polisner was fired immediately.“There are different ways to influence,” Mr. Polisner said.“It’s a personal decision.I chose this one.“We all participated in the Women’s March,” she said.”\n",
      " \n"
     ]
    }
   ],
   "source": [
    "## for loop to iterate through large_articles - Model 1 - Evaluvation \n",
    "for i in range(0,4):\n",
    "    freqs = create_freq_table(large_arts[i])\n",
    "    sents = sent_tokenize(large_arts[i])\n",
    "    sentence_scores = score_sentences_tf(sents,freqs)\n",
    "    threshold = average_score_of_art(sentence_scores)\n",
    "    summary = generate_summary(sents, sentence_scores, 1.3 * threshold)\n",
    "    print(\"Summarized Article from Model I :\",i, summary)\n",
    "    print(\" \")"
   ]
  },
  {
   "cell_type": "code",
   "execution_count": 18,
   "metadata": {},
   "outputs": [
    {
     "name": "stdout",
     "output_type": "stream",
     "text": [
      "Summarize Text: \n",
      " ” About an hour later, before new members of Congress were to be sworn in  —   the point when the House adopts new rules that will govern how it conducts itself during the   session  —   Mr. McCarthy told his fellow Republicans that they needed to reverse themselves quickly, or potentially face an even more embarrassing revolt on the House floor.. “We’re glad that the House Republicans listened to the public outrage about this proposal and came to their senses to reverse it, and not end real ethics enforcement in Congress,” Noah Bookbinder, executive director of the liberal watchdog group Citizens for Responsibility and Ethics in Washington, said.. “It was a stumble,” said Representative Mark Sanford, Republican of South Carolina, who opposed the measure and who was himself the subject of an ethics investigation while he was governor of South Carolina.. This was not the first time that House lawmakers  —   Democrats or Republicans  —   had tried to curtail the powers or budget of the Office of Congressional Ethics, which some lawmakers see as being too aggressive in its investigations, even though it is routinely cheered by nonprofit ethics groups on both the left and the right.\n",
      "Summarize Text: \n",
      " Several academics and prominent opposition figures support the idea, citing East Timor, Kosovo and Bosnia as places where, they say, it has worked, though of course there are plenty of cautionary tales where outside intervention failed, like Somalia and Iraq.. If such resolve was demonstrated in this part of Africa, then maybe, the interventionists argue, South Sudan’s leaders could be pushed aside and the country would be allowed to breathe.. “Would the same international bureaucrats that undertook massive   experiments in Iraq and Afghanistan come to Juba to lead another failed political intervention?” he added.. For decades, South Sudanese rebels had battled the     central government of Sudan.\n",
      "Summarize Text: \n",
      " ” Mr. Munye said he wanted to deliver a message to the first lady, Melania Trump.. ” In early January, the first bad news came: an email informing Ms. Zreik that she and her daughter would have to undergo more security screenings.. ” For now, there’s no place they can be together.. A    Syrian refugee who made it to the United States, she has a college degree and an apartment in a quiet,   village in the Hudson Valley.\n",
      "Summarize Text: \n",
      " ” IBM released a statement that said Ms. Rometty had “conveyed the company’s views directly to the president and the secretary of Homeland Security” on Feb. 3, “including suggestions for how technology can help to promote both national security and lawful immigration.. When 127 companies signed an amicus brief last week in a Seattle court that said the executive order “violates the immigration laws and the Constitution,” none of these six firms were on the list.. He noted that the company said in December that it would never participate in the building of a Muslim registry.. In a handful of cases, people have said they are canceling new Teslas because they view him as working for the president.\n"
     ]
    }
   ],
   "source": [
    "# for loop to iterate through large_arts - Model 2 - Evaluvation - Summarize upto 4 sentneces.\n",
    "for i in range(0,4):\n",
    "    sents[i] = sent_tokenize(large_arts[i])\n",
    "    generate_model2_summary(sents[i],4)"
   ]
  },
  {
   "cell_type": "markdown",
   "metadata": {},
   "source": [
    "## Conclusion\n",
    "\n",
    ">In search of creating a better summary we have created two working algorithms that generate summaries for N number of articles. Model 1 (Term Frequency) scores sentences based on the word count. Model 2 (cosine similarity) scores the sentences based on sentence similarity. Based on our observation both models have their share of good and bad summaries generated. This can be due the extractive technique used in our models and uneven articles lengths in our dataset. An Evaluation to validate which model's summaries are better was performed, to compare human written summaries with both model’s run on for evenly sized articles. We had judges who have no experience in the field decide which summary seemed best based on the article's headline. Unfortunately, neither model seems to outperform the other by a significant amount. Results seem to depend on the article and the judge. Overall neither model performed that well, compared to a human. Most of the issue with both of our models revolve around ambiguity issues. Seems like this might be a common issue with any extractive summarization model. It is hard to create a good summary from an article simply by extracting sentences from it and combining them into a summary. This is since the sentences must go together and make sense. Abstractive summarization could be a possible solution to resolve these ambiguity issues. However there are many techniques in NLP and a lot of research needs to be done to understand all the summarization techniques to conclude one model is the better than other."
   ]
  },
  {
   "cell_type": "markdown",
   "metadata": {},
   "source": [
    "\n"
   ]
  }
 ],
 "metadata": {
  "kernelspec": {
   "display_name": "Python 3",
   "language": "python",
   "name": "python3"
  },
  "language_info": {
   "codemirror_mode": {
    "name": "ipython",
    "version": 3
   },
   "file_extension": ".py",
   "mimetype": "text/x-python",
   "name": "python",
   "nbconvert_exporter": "python",
   "pygments_lexer": "ipython3",
   "version": "3.7.4"
  }
 },
 "nbformat": 4,
 "nbformat_minor": 4
}
